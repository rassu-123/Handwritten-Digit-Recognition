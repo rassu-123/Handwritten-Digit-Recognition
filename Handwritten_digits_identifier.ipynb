{
  "nbformat": 4,
  "nbformat_minor": 0,
  "metadata": {
    "colab": {
      "name": "Handwritten digits identifier.ipynb",
      "provenance": [],
      "collapsed_sections": []
    },
    "kernelspec": {
      "display_name": "Python 3",
      "name": "python3"
    },
    "language_info": {
      "name": "python"
    }
  },
  "cells": [
    {
      "cell_type": "code",
      "metadata": {
        "id": "T8zX7gsowB3s"
      },
      "source": [
        "import torch\n",
        "import torchvision\n",
        "from torchvision.datasets import MNIST\n",
        "import matplotlib.pyplot as plt\n",
        "import torchvision.transforms as transforms\n",
        "import torch.nn as nn\n",
        "import torch.nn.functional as F\n",
        "%matplotlib inline"
      ],
      "execution_count": 33,
      "outputs": []
    },
    {
      "cell_type": "code",
      "metadata": {
        "id": "MCMLbxrEwk2O"
      },
      "source": [
        "dataset = MNIST(root='data/', download=True)"
      ],
      "execution_count": 9,
      "outputs": []
    },
    {
      "cell_type": "code",
      "metadata": {
        "id": "z3hCsaRFxMvQ"
      },
      "source": [
        "# MNIST dataset (images and labels)\n",
        "dataset = MNIST(root='data/', \n",
        "                train=True,\n",
        "                transform=transforms.ToTensor())"
      ],
      "execution_count": 10,
      "outputs": []
    },
    {
      "cell_type": "code",
      "metadata": {
        "id": "ymH4xmYCx2Rs",
        "colab": {
          "base_uri": "https://localhost:8080/"
        },
        "outputId": "0b24fd68-953b-4d36-d228-d1e9a4ba668d"
      },
      "source": [
        "len(dataset)"
      ],
      "execution_count": 11,
      "outputs": [
        {
          "output_type": "execute_result",
          "data": {
            "text/plain": [
              "60000"
            ]
          },
          "metadata": {
            "tags": []
          },
          "execution_count": 11
        }
      ]
    },
    {
      "cell_type": "code",
      "metadata": {
        "id": "lVOW9Qjvx50T",
        "colab": {
          "base_uri": "https://localhost:8080/"
        },
        "outputId": "234c6dec-b58b-4827-f63c-a8f7fc97bb88"
      },
      "source": [
        "test_dataset = MNIST(root='data/', train=False)\n",
        "len(test_dataset)"
      ],
      "execution_count": 12,
      "outputs": [
        {
          "output_type": "execute_result",
          "data": {
            "text/plain": [
              "10000"
            ]
          },
          "metadata": {
            "tags": []
          },
          "execution_count": 12
        }
      ]
    },
    {
      "cell_type": "code",
      "metadata": {
        "id": "6yxvyZ73xgL5",
        "colab": {
          "base_uri": "https://localhost:8080/"
        },
        "outputId": "ed2b9d14-bab2-4120-b76d-914704111de4"
      },
      "source": [
        "from torch.utils.data import random_split\n",
        "\n",
        "train_ds, val_ds = random_split(dataset, [50000, 10000])\n",
        "len(train_ds), len(val_ds)"
      ],
      "execution_count": 13,
      "outputs": [
        {
          "output_type": "execute_result",
          "data": {
            "text/plain": [
              "(50000, 10000)"
            ]
          },
          "metadata": {
            "tags": []
          },
          "execution_count": 13
        }
      ]
    },
    {
      "cell_type": "code",
      "metadata": {
        "id": "M5EdRM1pycgn"
      },
      "source": [
        "from torch.utils.data import DataLoader\n",
        "\n",
        "batch_size = 128\n",
        "\n",
        "train_loader = DataLoader(train_ds, batch_size, shuffle=True)\n",
        "val_loader = DataLoader(val_ds, batch_size)"
      ],
      "execution_count": 14,
      "outputs": []
    },
    {
      "cell_type": "code",
      "metadata": {
        "id": "hzSZW1p0yhng"
      },
      "source": [
        "import torch.nn as nn\n",
        "\n",
        "input_size = 28*28\n",
        "num_classes = 10\n",
        "\n",
        "# Logistic regression model\n",
        "model = nn.Linear(input_size, num_classes)"
      ],
      "execution_count": 34,
      "outputs": []
    },
    {
      "cell_type": "code",
      "metadata": {
        "colab": {
          "base_uri": "https://localhost:8080/"
        },
        "id": "QLraA5xryqvQ",
        "outputId": "df918758-ad1c-4aeb-8d7c-8a62bc04cdff"
      },
      "source": [
        "for images, labels in train_loader:\n",
        "  break\n",
        "images.reshape(128, 784).shape"
      ],
      "execution_count": 35,
      "outputs": [
        {
          "output_type": "execute_result",
          "data": {
            "text/plain": [
              "torch.Size([128, 784])"
            ]
          },
          "metadata": {
            "tags": []
          },
          "execution_count": 35
        }
      ]
    },
    {
      "cell_type": "code",
      "metadata": {
        "id": "YfZBx8LE10hf"
      },
      "source": [
        "def accuracy(outputs, labels):\n",
        "    _, preds = torch.max(outputs, dim=1)\n",
        "    return torch.tensor(torch.sum(preds == labels).item() / len(preds))"
      ],
      "execution_count": 41,
      "outputs": []
    },
    {
      "cell_type": "code",
      "metadata": {
        "id": "E1QhGYBV0_JG"
      },
      "source": [
        "def evaluate(model, val_loader):\n",
        "    outputs = [model.validation_step(batch) for batch in val_loader]\n",
        "    return model.validation_epoch_end(outputs)"
      ],
      "execution_count": 42,
      "outputs": []
    },
    {
      "cell_type": "code",
      "metadata": {
        "id": "I5vuMKV3zwh9"
      },
      "source": [
        "class MnistModel(nn.Module):\n",
        "    def __init__(self):\n",
        "        super().__init__()\n",
        "        self.linear = nn.Linear(input_size, num_classes)\n",
        "        \n",
        "    def forward(self, xb):\n",
        "        xb = xb.reshape(-1, 784)\n",
        "        out = self.linear(xb)\n",
        "        return out\n",
        "    \n",
        "    def training_step(self, batch):\n",
        "        images, labels = batch \n",
        "        out = self(images)                  # Generate predictions\n",
        "        loss = F.cross_entropy(out, labels) # Calculate loss\n",
        "        return loss\n",
        "    \n",
        "    def validation_step(self, batch):\n",
        "        images, labels = batch \n",
        "        out = self(images)                    # Generate predictions\n",
        "        loss = F.cross_entropy(out, labels)   # Calculate loss\n",
        "        acc = accuracy(out, labels)           # Calculate accuracy\n",
        "        return {'val_loss': loss, 'val_acc': acc}\n",
        "        \n",
        "    def validation_epoch_end(self, outputs):\n",
        "        batch_losses = [x['val_loss'] for x in outputs]\n",
        "        epoch_loss = torch.stack(batch_losses).mean()   # Combine losses\n",
        "        batch_accs = [x['val_acc'] for x in outputs]\n",
        "        epoch_acc = torch.stack(batch_accs).mean()      # Combine accuracies\n",
        "        return {'val_loss': epoch_loss.item(), 'val_acc': epoch_acc.item()}\n",
        "    \n",
        "    def epoch_end(self, epoch, result):\n",
        "        print(\"Epoch [{}], val_loss: {:.4f}, val_acc: {:.4f}\".format(epoch, result['val_loss'], result['val_acc']))\n",
        "    \n",
        "model = MnistModel()"
      ],
      "execution_count": 43,
      "outputs": []
    },
    {
      "cell_type": "code",
      "metadata": {
        "id": "3F2sDBJa0w2X"
      },
      "source": [
        "def fit(epochs, lr, model, train_loader, val_loader, opt_func=torch.optim.SGD):\n",
        "    optimizer = opt_func(model.parameters(), lr)\n",
        "    history = [] # for recording epoch-wise results\n",
        "    \n",
        "    for epoch in range(epochs):\n",
        "        \n",
        "        # Training Phase \n",
        "        for batch in train_loader:\n",
        "            loss = model.training_step(batch)\n",
        "            loss.backward()\n",
        "            optimizer.step()\n",
        "            optimizer.zero_grad()\n",
        "        \n",
        "        # Validation phase\n",
        "        result = evaluate(model, val_loader)\n",
        "        model.epoch_end(epoch, result)\n",
        "        history.append(result)\n",
        "\n",
        "    return history"
      ],
      "execution_count": 44,
      "outputs": []
    },
    {
      "cell_type": "code",
      "metadata": {
        "colab": {
          "base_uri": "https://localhost:8080/"
        },
        "id": "oLWNog8V05Rz",
        "outputId": "7c2c16a2-896c-456d-d6c6-c0179c9dfe86"
      },
      "source": [
        "history1 = fit(5, 0.001, model, train_loader, val_loader)"
      ],
      "execution_count": 45,
      "outputs": [
        {
          "output_type": "stream",
          "text": [
            "Epoch [0], val_loss: 2.0017, val_acc: 0.5744\n",
            "Epoch [1], val_loss: 1.7210, val_acc: 0.7182\n",
            "Epoch [2], val_loss: 1.5108, val_acc: 0.7563\n",
            "Epoch [3], val_loss: 1.3522, val_acc: 0.7795\n",
            "Epoch [4], val_loss: 1.2306, val_acc: 0.7941\n"
          ],
          "name": "stdout"
        }
      ]
    },
    {
      "cell_type": "code",
      "metadata": {
        "colab": {
          "base_uri": "https://localhost:8080/"
        },
        "id": "buGFg-QQ2K0O",
        "outputId": "c5932dce-3f80-4670-e1d2-5d7980cb3cb7"
      },
      "source": [
        "history2 = fit(5, 0.001, model, train_loader, val_loader)"
      ],
      "execution_count": 46,
      "outputs": [
        {
          "output_type": "stream",
          "text": [
            "Epoch [0], val_loss: 1.1354, val_acc: 0.8035\n",
            "Epoch [1], val_loss: 1.0593, val_acc: 0.8106\n",
            "Epoch [2], val_loss: 0.9972, val_acc: 0.8152\n",
            "Epoch [3], val_loss: 0.9457, val_acc: 0.8193\n",
            "Epoch [4], val_loss: 0.9022, val_acc: 0.8237\n"
          ],
          "name": "stdout"
        }
      ]
    },
    {
      "cell_type": "code",
      "metadata": {
        "colab": {
          "base_uri": "https://localhost:8080/"
        },
        "id": "BnZjB7dn2PeX",
        "outputId": "dca7b5bd-616f-444d-93cb-226226f6f3be"
      },
      "source": [
        "history3 = fit(5, 0.001, model, train_loader, val_loader)"
      ],
      "execution_count": 47,
      "outputs": [
        {
          "output_type": "stream",
          "text": [
            "Epoch [0], val_loss: 0.8651, val_acc: 0.8279\n",
            "Epoch [1], val_loss: 0.8329, val_acc: 0.8314\n",
            "Epoch [2], val_loss: 0.8048, val_acc: 0.8342\n",
            "Epoch [3], val_loss: 0.7800, val_acc: 0.8384\n",
            "Epoch [4], val_loss: 0.7579, val_acc: 0.8412\n"
          ],
          "name": "stdout"
        }
      ]
    },
    {
      "cell_type": "code",
      "metadata": {
        "colab": {
          "base_uri": "https://localhost:8080/"
        },
        "id": "v_-gSu-v2W1c",
        "outputId": "7a957f36-d90f-494c-ee6f-cfd7bea84cc3"
      },
      "source": [
        "history3 = fit(200, 0.001, model, train_loader, val_loader)"
      ],
      "execution_count": 48,
      "outputs": [
        {
          "output_type": "stream",
          "text": [
            "Epoch [0], val_loss: 0.7381, val_acc: 0.8429\n",
            "Epoch [1], val_loss: 0.7203, val_acc: 0.8448\n",
            "Epoch [2], val_loss: 0.7041, val_acc: 0.8480\n",
            "Epoch [3], val_loss: 0.6894, val_acc: 0.8496\n",
            "Epoch [4], val_loss: 0.6759, val_acc: 0.8512\n",
            "Epoch [5], val_loss: 0.6634, val_acc: 0.8531\n",
            "Epoch [6], val_loss: 0.6519, val_acc: 0.8544\n",
            "Epoch [7], val_loss: 0.6413, val_acc: 0.8554\n",
            "Epoch [8], val_loss: 0.6314, val_acc: 0.8562\n",
            "Epoch [9], val_loss: 0.6221, val_acc: 0.8570\n",
            "Epoch [10], val_loss: 0.6135, val_acc: 0.8583\n",
            "Epoch [11], val_loss: 0.6054, val_acc: 0.8595\n",
            "Epoch [12], val_loss: 0.5978, val_acc: 0.8607\n",
            "Epoch [13], val_loss: 0.5906, val_acc: 0.8617\n",
            "Epoch [14], val_loss: 0.5838, val_acc: 0.8624\n",
            "Epoch [15], val_loss: 0.5774, val_acc: 0.8627\n",
            "Epoch [16], val_loss: 0.5713, val_acc: 0.8630\n",
            "Epoch [17], val_loss: 0.5656, val_acc: 0.8636\n",
            "Epoch [18], val_loss: 0.5601, val_acc: 0.8647\n",
            "Epoch [19], val_loss: 0.5549, val_acc: 0.8656\n",
            "Epoch [20], val_loss: 0.5499, val_acc: 0.8660\n",
            "Epoch [21], val_loss: 0.5451, val_acc: 0.8673\n",
            "Epoch [22], val_loss: 0.5406, val_acc: 0.8679\n",
            "Epoch [23], val_loss: 0.5362, val_acc: 0.8695\n",
            "Epoch [24], val_loss: 0.5321, val_acc: 0.8702\n",
            "Epoch [25], val_loss: 0.5281, val_acc: 0.8711\n",
            "Epoch [26], val_loss: 0.5242, val_acc: 0.8711\n",
            "Epoch [27], val_loss: 0.5205, val_acc: 0.8713\n",
            "Epoch [28], val_loss: 0.5170, val_acc: 0.8717\n",
            "Epoch [29], val_loss: 0.5135, val_acc: 0.8722\n",
            "Epoch [30], val_loss: 0.5102, val_acc: 0.8724\n",
            "Epoch [31], val_loss: 0.5071, val_acc: 0.8727\n",
            "Epoch [32], val_loss: 0.5039, val_acc: 0.8734\n",
            "Epoch [33], val_loss: 0.5010, val_acc: 0.8737\n",
            "Epoch [34], val_loss: 0.4981, val_acc: 0.8741\n",
            "Epoch [35], val_loss: 0.4953, val_acc: 0.8748\n",
            "Epoch [36], val_loss: 0.4926, val_acc: 0.8753\n",
            "Epoch [37], val_loss: 0.4900, val_acc: 0.8754\n",
            "Epoch [38], val_loss: 0.4875, val_acc: 0.8760\n",
            "Epoch [39], val_loss: 0.4850, val_acc: 0.8760\n",
            "Epoch [40], val_loss: 0.4826, val_acc: 0.8763\n",
            "Epoch [41], val_loss: 0.4804, val_acc: 0.8763\n",
            "Epoch [42], val_loss: 0.4781, val_acc: 0.8767\n",
            "Epoch [43], val_loss: 0.4759, val_acc: 0.8769\n",
            "Epoch [44], val_loss: 0.4738, val_acc: 0.8771\n",
            "Epoch [45], val_loss: 0.4717, val_acc: 0.8774\n",
            "Epoch [46], val_loss: 0.4697, val_acc: 0.8775\n",
            "Epoch [47], val_loss: 0.4677, val_acc: 0.8776\n",
            "Epoch [48], val_loss: 0.4658, val_acc: 0.8781\n",
            "Epoch [49], val_loss: 0.4639, val_acc: 0.8783\n",
            "Epoch [50], val_loss: 0.4621, val_acc: 0.8785\n",
            "Epoch [51], val_loss: 0.4603, val_acc: 0.8791\n",
            "Epoch [52], val_loss: 0.4586, val_acc: 0.8791\n",
            "Epoch [53], val_loss: 0.4569, val_acc: 0.8800\n",
            "Epoch [54], val_loss: 0.4553, val_acc: 0.8802\n",
            "Epoch [55], val_loss: 0.4537, val_acc: 0.8804\n",
            "Epoch [56], val_loss: 0.4520, val_acc: 0.8808\n",
            "Epoch [57], val_loss: 0.4505, val_acc: 0.8811\n",
            "Epoch [58], val_loss: 0.4490, val_acc: 0.8815\n",
            "Epoch [59], val_loss: 0.4475, val_acc: 0.8817\n",
            "Epoch [60], val_loss: 0.4461, val_acc: 0.8822\n",
            "Epoch [61], val_loss: 0.4447, val_acc: 0.8825\n",
            "Epoch [62], val_loss: 0.4433, val_acc: 0.8824\n",
            "Epoch [63], val_loss: 0.4419, val_acc: 0.8827\n",
            "Epoch [64], val_loss: 0.4406, val_acc: 0.8831\n",
            "Epoch [65], val_loss: 0.4393, val_acc: 0.8834\n",
            "Epoch [66], val_loss: 0.4380, val_acc: 0.8835\n",
            "Epoch [67], val_loss: 0.4368, val_acc: 0.8839\n",
            "Epoch [68], val_loss: 0.4356, val_acc: 0.8840\n",
            "Epoch [69], val_loss: 0.4344, val_acc: 0.8841\n",
            "Epoch [70], val_loss: 0.4332, val_acc: 0.8844\n",
            "Epoch [71], val_loss: 0.4320, val_acc: 0.8845\n",
            "Epoch [72], val_loss: 0.4309, val_acc: 0.8850\n",
            "Epoch [73], val_loss: 0.4297, val_acc: 0.8851\n",
            "Epoch [74], val_loss: 0.4286, val_acc: 0.8853\n",
            "Epoch [75], val_loss: 0.4275, val_acc: 0.8862\n",
            "Epoch [76], val_loss: 0.4265, val_acc: 0.8862\n",
            "Epoch [77], val_loss: 0.4254, val_acc: 0.8863\n",
            "Epoch [78], val_loss: 0.4244, val_acc: 0.8864\n",
            "Epoch [79], val_loss: 0.4234, val_acc: 0.8866\n",
            "Epoch [80], val_loss: 0.4224, val_acc: 0.8870\n",
            "Epoch [81], val_loss: 0.4215, val_acc: 0.8871\n",
            "Epoch [82], val_loss: 0.4205, val_acc: 0.8874\n",
            "Epoch [83], val_loss: 0.4195, val_acc: 0.8876\n",
            "Epoch [84], val_loss: 0.4186, val_acc: 0.8879\n",
            "Epoch [85], val_loss: 0.4177, val_acc: 0.8879\n",
            "Epoch [86], val_loss: 0.4168, val_acc: 0.8883\n",
            "Epoch [87], val_loss: 0.4159, val_acc: 0.8884\n",
            "Epoch [88], val_loss: 0.4151, val_acc: 0.8885\n",
            "Epoch [89], val_loss: 0.4142, val_acc: 0.8885\n",
            "Epoch [90], val_loss: 0.4133, val_acc: 0.8891\n",
            "Epoch [91], val_loss: 0.4125, val_acc: 0.8891\n",
            "Epoch [92], val_loss: 0.4117, val_acc: 0.8892\n",
            "Epoch [93], val_loss: 0.4109, val_acc: 0.8895\n",
            "Epoch [94], val_loss: 0.4101, val_acc: 0.8896\n",
            "Epoch [95], val_loss: 0.4093, val_acc: 0.8899\n",
            "Epoch [96], val_loss: 0.4085, val_acc: 0.8899\n",
            "Epoch [97], val_loss: 0.4078, val_acc: 0.8902\n",
            "Epoch [98], val_loss: 0.4070, val_acc: 0.8903\n",
            "Epoch [99], val_loss: 0.4063, val_acc: 0.8906\n",
            "Epoch [100], val_loss: 0.4055, val_acc: 0.8910\n",
            "Epoch [101], val_loss: 0.4048, val_acc: 0.8914\n",
            "Epoch [102], val_loss: 0.4041, val_acc: 0.8915\n",
            "Epoch [103], val_loss: 0.4034, val_acc: 0.8917\n",
            "Epoch [104], val_loss: 0.4027, val_acc: 0.8918\n",
            "Epoch [105], val_loss: 0.4020, val_acc: 0.8919\n",
            "Epoch [106], val_loss: 0.4013, val_acc: 0.8923\n",
            "Epoch [107], val_loss: 0.4007, val_acc: 0.8927\n",
            "Epoch [108], val_loss: 0.4000, val_acc: 0.8927\n",
            "Epoch [109], val_loss: 0.3994, val_acc: 0.8928\n",
            "Epoch [110], val_loss: 0.3987, val_acc: 0.8929\n",
            "Epoch [111], val_loss: 0.3981, val_acc: 0.8932\n",
            "Epoch [112], val_loss: 0.3975, val_acc: 0.8933\n",
            "Epoch [113], val_loss: 0.3969, val_acc: 0.8932\n",
            "Epoch [114], val_loss: 0.3962, val_acc: 0.8932\n",
            "Epoch [115], val_loss: 0.3956, val_acc: 0.8934\n",
            "Epoch [116], val_loss: 0.3950, val_acc: 0.8936\n",
            "Epoch [117], val_loss: 0.3944, val_acc: 0.8937\n",
            "Epoch [118], val_loss: 0.3939, val_acc: 0.8938\n",
            "Epoch [119], val_loss: 0.3933, val_acc: 0.8940\n",
            "Epoch [120], val_loss: 0.3927, val_acc: 0.8942\n",
            "Epoch [121], val_loss: 0.3922, val_acc: 0.8943\n",
            "Epoch [122], val_loss: 0.3916, val_acc: 0.8945\n",
            "Epoch [123], val_loss: 0.3910, val_acc: 0.8944\n",
            "Epoch [124], val_loss: 0.3905, val_acc: 0.8942\n",
            "Epoch [125], val_loss: 0.3900, val_acc: 0.8945\n",
            "Epoch [126], val_loss: 0.3894, val_acc: 0.8946\n",
            "Epoch [127], val_loss: 0.3889, val_acc: 0.8946\n",
            "Epoch [128], val_loss: 0.3884, val_acc: 0.8949\n",
            "Epoch [129], val_loss: 0.3879, val_acc: 0.8950\n",
            "Epoch [130], val_loss: 0.3874, val_acc: 0.8951\n",
            "Epoch [131], val_loss: 0.3869, val_acc: 0.8953\n",
            "Epoch [132], val_loss: 0.3864, val_acc: 0.8955\n",
            "Epoch [133], val_loss: 0.3859, val_acc: 0.8958\n",
            "Epoch [134], val_loss: 0.3854, val_acc: 0.8958\n",
            "Epoch [135], val_loss: 0.3849, val_acc: 0.8959\n",
            "Epoch [136], val_loss: 0.3844, val_acc: 0.8960\n",
            "Epoch [137], val_loss: 0.3840, val_acc: 0.8960\n",
            "Epoch [138], val_loss: 0.3835, val_acc: 0.8962\n",
            "Epoch [139], val_loss: 0.3830, val_acc: 0.8962\n",
            "Epoch [140], val_loss: 0.3826, val_acc: 0.8963\n",
            "Epoch [141], val_loss: 0.3821, val_acc: 0.8964\n",
            "Epoch [142], val_loss: 0.3817, val_acc: 0.8961\n",
            "Epoch [143], val_loss: 0.3812, val_acc: 0.8963\n",
            "Epoch [144], val_loss: 0.3808, val_acc: 0.8965\n",
            "Epoch [145], val_loss: 0.3804, val_acc: 0.8966\n",
            "Epoch [146], val_loss: 0.3799, val_acc: 0.8968\n",
            "Epoch [147], val_loss: 0.3795, val_acc: 0.8969\n",
            "Epoch [148], val_loss: 0.3791, val_acc: 0.8970\n",
            "Epoch [149], val_loss: 0.3786, val_acc: 0.8971\n",
            "Epoch [150], val_loss: 0.3782, val_acc: 0.8973\n",
            "Epoch [151], val_loss: 0.3778, val_acc: 0.8976\n",
            "Epoch [152], val_loss: 0.3774, val_acc: 0.8976\n",
            "Epoch [153], val_loss: 0.3770, val_acc: 0.8977\n",
            "Epoch [154], val_loss: 0.3766, val_acc: 0.8978\n",
            "Epoch [155], val_loss: 0.3762, val_acc: 0.8979\n",
            "Epoch [156], val_loss: 0.3758, val_acc: 0.8981\n",
            "Epoch [157], val_loss: 0.3755, val_acc: 0.8983\n",
            "Epoch [158], val_loss: 0.3751, val_acc: 0.8984\n",
            "Epoch [159], val_loss: 0.3747, val_acc: 0.8985\n",
            "Epoch [160], val_loss: 0.3743, val_acc: 0.8988\n",
            "Epoch [161], val_loss: 0.3739, val_acc: 0.8988\n",
            "Epoch [162], val_loss: 0.3736, val_acc: 0.8987\n",
            "Epoch [163], val_loss: 0.3732, val_acc: 0.8987\n",
            "Epoch [164], val_loss: 0.3728, val_acc: 0.8988\n",
            "Epoch [165], val_loss: 0.3725, val_acc: 0.8990\n",
            "Epoch [166], val_loss: 0.3721, val_acc: 0.8991\n",
            "Epoch [167], val_loss: 0.3717, val_acc: 0.8992\n",
            "Epoch [168], val_loss: 0.3714, val_acc: 0.8993\n",
            "Epoch [169], val_loss: 0.3710, val_acc: 0.8994\n",
            "Epoch [170], val_loss: 0.3707, val_acc: 0.8992\n",
            "Epoch [171], val_loss: 0.3703, val_acc: 0.8994\n",
            "Epoch [172], val_loss: 0.3700, val_acc: 0.8993\n",
            "Epoch [173], val_loss: 0.3697, val_acc: 0.8994\n",
            "Epoch [174], val_loss: 0.3694, val_acc: 0.8994\n",
            "Epoch [175], val_loss: 0.3690, val_acc: 0.8993\n",
            "Epoch [176], val_loss: 0.3687, val_acc: 0.8994\n",
            "Epoch [177], val_loss: 0.3684, val_acc: 0.8994\n",
            "Epoch [178], val_loss: 0.3680, val_acc: 0.8996\n",
            "Epoch [179], val_loss: 0.3677, val_acc: 0.8998\n",
            "Epoch [180], val_loss: 0.3674, val_acc: 0.8998\n",
            "Epoch [181], val_loss: 0.3671, val_acc: 0.8999\n",
            "Epoch [182], val_loss: 0.3668, val_acc: 0.9002\n",
            "Epoch [183], val_loss: 0.3664, val_acc: 0.9001\n",
            "Epoch [184], val_loss: 0.3662, val_acc: 0.9003\n",
            "Epoch [185], val_loss: 0.3658, val_acc: 0.9005\n",
            "Epoch [186], val_loss: 0.3655, val_acc: 0.9007\n",
            "Epoch [187], val_loss: 0.3652, val_acc: 0.9007\n",
            "Epoch [188], val_loss: 0.3649, val_acc: 0.9007\n",
            "Epoch [189], val_loss: 0.3646, val_acc: 0.9008\n",
            "Epoch [190], val_loss: 0.3643, val_acc: 0.9009\n",
            "Epoch [191], val_loss: 0.3640, val_acc: 0.9009\n",
            "Epoch [192], val_loss: 0.3637, val_acc: 0.9012\n",
            "Epoch [193], val_loss: 0.3635, val_acc: 0.9009\n",
            "Epoch [194], val_loss: 0.3632, val_acc: 0.9011\n",
            "Epoch [195], val_loss: 0.3629, val_acc: 0.9011\n",
            "Epoch [196], val_loss: 0.3626, val_acc: 0.9013\n",
            "Epoch [197], val_loss: 0.3623, val_acc: 0.9012\n",
            "Epoch [198], val_loss: 0.3621, val_acc: 0.9014\n",
            "Epoch [199], val_loss: 0.3618, val_acc: 0.9014\n"
          ],
          "name": "stdout"
        }
      ]
    },
    {
      "cell_type": "code",
      "metadata": {
        "colab": {
          "base_uri": "https://localhost:8080/"
        },
        "id": "OkC4kpyq9Ait",
        "outputId": "ba4e930b-9502-4e6e-e91c-0a163c764935"
      },
      "source": [
        "history4 = fit(100, 0.001, model, train_loader, val_loader)"
      ],
      "execution_count": 55,
      "outputs": [
        {
          "output_type": "stream",
          "text": [
            "Epoch [0], val_loss: 0.3615, val_acc: 0.9015\n",
            "Epoch [1], val_loss: 0.3612, val_acc: 0.9018\n",
            "Epoch [2], val_loss: 0.3609, val_acc: 0.9019\n",
            "Epoch [3], val_loss: 0.3607, val_acc: 0.9018\n",
            "Epoch [4], val_loss: 0.3604, val_acc: 0.9021\n",
            "Epoch [5], val_loss: 0.3602, val_acc: 0.9020\n",
            "Epoch [6], val_loss: 0.3599, val_acc: 0.9020\n",
            "Epoch [7], val_loss: 0.3596, val_acc: 0.9022\n",
            "Epoch [8], val_loss: 0.3594, val_acc: 0.9022\n",
            "Epoch [9], val_loss: 0.3591, val_acc: 0.9022\n",
            "Epoch [10], val_loss: 0.3589, val_acc: 0.9026\n",
            "Epoch [11], val_loss: 0.3586, val_acc: 0.9026\n",
            "Epoch [12], val_loss: 0.3583, val_acc: 0.9029\n",
            "Epoch [13], val_loss: 0.3581, val_acc: 0.9028\n",
            "Epoch [14], val_loss: 0.3579, val_acc: 0.9028\n",
            "Epoch [15], val_loss: 0.3576, val_acc: 0.9028\n",
            "Epoch [16], val_loss: 0.3574, val_acc: 0.9028\n",
            "Epoch [17], val_loss: 0.3571, val_acc: 0.9028\n",
            "Epoch [18], val_loss: 0.3569, val_acc: 0.9030\n",
            "Epoch [19], val_loss: 0.3566, val_acc: 0.9029\n",
            "Epoch [20], val_loss: 0.3564, val_acc: 0.9029\n",
            "Epoch [21], val_loss: 0.3562, val_acc: 0.9028\n",
            "Epoch [22], val_loss: 0.3559, val_acc: 0.9029\n",
            "Epoch [23], val_loss: 0.3557, val_acc: 0.9029\n",
            "Epoch [24], val_loss: 0.3555, val_acc: 0.9029\n",
            "Epoch [25], val_loss: 0.3552, val_acc: 0.9031\n",
            "Epoch [26], val_loss: 0.3550, val_acc: 0.9032\n",
            "Epoch [27], val_loss: 0.3548, val_acc: 0.9032\n",
            "Epoch [28], val_loss: 0.3546, val_acc: 0.9032\n",
            "Epoch [29], val_loss: 0.3543, val_acc: 0.9032\n",
            "Epoch [30], val_loss: 0.3541, val_acc: 0.9032\n",
            "Epoch [31], val_loss: 0.3539, val_acc: 0.9033\n",
            "Epoch [32], val_loss: 0.3536, val_acc: 0.9033\n",
            "Epoch [33], val_loss: 0.3534, val_acc: 0.9033\n",
            "Epoch [34], val_loss: 0.3532, val_acc: 0.9033\n",
            "Epoch [35], val_loss: 0.3530, val_acc: 0.9033\n",
            "Epoch [36], val_loss: 0.3528, val_acc: 0.9033\n",
            "Epoch [37], val_loss: 0.3526, val_acc: 0.9034\n",
            "Epoch [38], val_loss: 0.3524, val_acc: 0.9033\n",
            "Epoch [39], val_loss: 0.3522, val_acc: 0.9033\n",
            "Epoch [40], val_loss: 0.3520, val_acc: 0.9033\n",
            "Epoch [41], val_loss: 0.3517, val_acc: 0.9034\n",
            "Epoch [42], val_loss: 0.3515, val_acc: 0.9034\n",
            "Epoch [43], val_loss: 0.3513, val_acc: 0.9032\n",
            "Epoch [44], val_loss: 0.3511, val_acc: 0.9033\n",
            "Epoch [45], val_loss: 0.3509, val_acc: 0.9034\n",
            "Epoch [46], val_loss: 0.3507, val_acc: 0.9033\n",
            "Epoch [47], val_loss: 0.3505, val_acc: 0.9034\n",
            "Epoch [48], val_loss: 0.3503, val_acc: 0.9033\n",
            "Epoch [49], val_loss: 0.3501, val_acc: 0.9036\n",
            "Epoch [50], val_loss: 0.3499, val_acc: 0.9034\n",
            "Epoch [51], val_loss: 0.3497, val_acc: 0.9035\n",
            "Epoch [52], val_loss: 0.3495, val_acc: 0.9034\n",
            "Epoch [53], val_loss: 0.3493, val_acc: 0.9034\n",
            "Epoch [54], val_loss: 0.3492, val_acc: 0.9037\n",
            "Epoch [55], val_loss: 0.3489, val_acc: 0.9039\n",
            "Epoch [56], val_loss: 0.3488, val_acc: 0.9037\n",
            "Epoch [57], val_loss: 0.3486, val_acc: 0.9037\n",
            "Epoch [58], val_loss: 0.3484, val_acc: 0.9038\n",
            "Epoch [59], val_loss: 0.3482, val_acc: 0.9039\n",
            "Epoch [60], val_loss: 0.3480, val_acc: 0.9039\n",
            "Epoch [61], val_loss: 0.3478, val_acc: 0.9040\n",
            "Epoch [62], val_loss: 0.3476, val_acc: 0.9039\n",
            "Epoch [63], val_loss: 0.3475, val_acc: 0.9040\n",
            "Epoch [64], val_loss: 0.3473, val_acc: 0.9040\n",
            "Epoch [65], val_loss: 0.3471, val_acc: 0.9041\n",
            "Epoch [66], val_loss: 0.3469, val_acc: 0.9041\n",
            "Epoch [67], val_loss: 0.3467, val_acc: 0.9041\n",
            "Epoch [68], val_loss: 0.3465, val_acc: 0.9042\n",
            "Epoch [69], val_loss: 0.3464, val_acc: 0.9044\n",
            "Epoch [70], val_loss: 0.3462, val_acc: 0.9044\n",
            "Epoch [71], val_loss: 0.3460, val_acc: 0.9044\n",
            "Epoch [72], val_loss: 0.3458, val_acc: 0.9044\n",
            "Epoch [73], val_loss: 0.3457, val_acc: 0.9044\n",
            "Epoch [74], val_loss: 0.3455, val_acc: 0.9045\n",
            "Epoch [75], val_loss: 0.3453, val_acc: 0.9046\n",
            "Epoch [76], val_loss: 0.3451, val_acc: 0.9047\n",
            "Epoch [77], val_loss: 0.3450, val_acc: 0.9046\n",
            "Epoch [78], val_loss: 0.3448, val_acc: 0.9047\n",
            "Epoch [79], val_loss: 0.3446, val_acc: 0.9048\n",
            "Epoch [80], val_loss: 0.3445, val_acc: 0.9048\n",
            "Epoch [81], val_loss: 0.3443, val_acc: 0.9047\n",
            "Epoch [82], val_loss: 0.3441, val_acc: 0.9047\n",
            "Epoch [83], val_loss: 0.3440, val_acc: 0.9047\n",
            "Epoch [84], val_loss: 0.3438, val_acc: 0.9045\n",
            "Epoch [85], val_loss: 0.3436, val_acc: 0.9048\n",
            "Epoch [86], val_loss: 0.3435, val_acc: 0.9049\n",
            "Epoch [87], val_loss: 0.3433, val_acc: 0.9048\n",
            "Epoch [88], val_loss: 0.3432, val_acc: 0.9048\n",
            "Epoch [89], val_loss: 0.3430, val_acc: 0.9048\n",
            "Epoch [90], val_loss: 0.3429, val_acc: 0.9048\n",
            "Epoch [91], val_loss: 0.3427, val_acc: 0.9049\n",
            "Epoch [92], val_loss: 0.3425, val_acc: 0.9050\n",
            "Epoch [93], val_loss: 0.3424, val_acc: 0.9051\n",
            "Epoch [94], val_loss: 0.3422, val_acc: 0.9052\n",
            "Epoch [95], val_loss: 0.3421, val_acc: 0.9054\n",
            "Epoch [96], val_loss: 0.3419, val_acc: 0.9054\n",
            "Epoch [97], val_loss: 0.3417, val_acc: 0.9054\n",
            "Epoch [98], val_loss: 0.3416, val_acc: 0.9054\n",
            "Epoch [99], val_loss: 0.3414, val_acc: 0.9055\n"
          ],
          "name": "stdout"
        }
      ]
    },
    {
      "cell_type": "code",
      "metadata": {
        "id": "TUJmWQbB2opB"
      },
      "source": [
        "# Define test dataset\n",
        "test_dataset = MNIST(root='data/', \n",
        "                     train=False,\n",
        "                     transform=transforms.ToTensor())"
      ],
      "execution_count": 56,
      "outputs": []
    },
    {
      "cell_type": "code",
      "metadata": {
        "id": "qvou7wj12wAI"
      },
      "source": [
        "def predict_image(img, model):\n",
        "    xb = img.unsqueeze(0)\n",
        "    yb = model(xb)\n",
        "    _, preds = torch.max(yb, dim=1)\n",
        "    return preds[0].item()"
      ],
      "execution_count": 57,
      "outputs": []
    },
    {
      "cell_type": "code",
      "metadata": {
        "colab": {
          "base_uri": "https://localhost:8080/",
          "height": 282
        },
        "id": "sa72AzVo22_-",
        "outputId": "f312d242-8066-4e74-ed71-570c3a301a65"
      },
      "source": [
        "img, label = test_dataset[10]\n",
        "plt.imshow(img[0], cmap='gray')\n",
        "print('Label:', label, ', Predicted:', predict_image(img, model))"
      ],
      "execution_count": 58,
      "outputs": [
        {
          "output_type": "stream",
          "text": [
            "Label: 0 , Predicted: 0\n"
          ],
          "name": "stdout"
        },
        {
          "output_type": "display_data",
          "data": {
            "image/png": "[encoded data removed]",
            "text/plain": [
              "<Figure size 432x288 with 1 Axes>"
            ]
          },
          "metadata": {
            "tags": [],
            "needs_background": "light"
          }
        }
      ]
    },
    {
      "cell_type": "code",
      "metadata": {
        "colab": {
          "base_uri": "https://localhost:8080/",
          "height": 282
        },
        "id": "naM0JXrE26hF",
        "outputId": "494d583b-35de-419e-eb51-a5cf197a0dd8"
      },
      "source": [
        "img, label = test_dataset[1839]\n",
        "plt.imshow(img[0], cmap='gray')\n",
        "print('Label:', label, ', Predicted:', predict_image(img, model))"
      ],
      "execution_count": 52,
      "outputs": [
        {
          "output_type": "stream",
          "text": [
            "Label: 2 , Predicted: 8\n"
          ],
          "name": "stdout"
        },
        {
          "output_type": "display_data",
          "data": {
            "image/png": "[encoded data removed]",
            "text/plain": [
              "<Figure size 432x288 with 1 Axes>"
            ]
          },
          "metadata": {
            "tags": [],
            "needs_background": "light"
          }
        }
      ]
    },
    {
      "cell_type": "code",
      "metadata": {
        "colab": {
          "base_uri": "https://localhost:8080/",
          "height": 282
        },
        "id": "a1m-upEf27T1",
        "outputId": "918c42c3-c4bb-4849-a7f0-3e7d27064d63"
      },
      "source": [
        "img, label = test_dataset[0]\n",
        "plt.imshow(img[0], cmap='gray')\n",
        "print('Label:', label, ', Predicted:', predict_image(img, model))"
      ],
      "execution_count": 53,
      "outputs": [
        {
          "output_type": "stream",
          "text": [
            "Label: 7 , Predicted: 7\n"
          ],
          "name": "stdout"
        },
        {
          "output_type": "display_data",
          "data": {
            "image/png": "[encoded data removed]",
            "text/plain": [
              "<Figure size 432x288 with 1 Axes>"
            ]
          },
          "metadata": {
            "tags": [],
            "needs_background": "light"
          }
        }
      ]
    },
    {
      "cell_type": "code",
      "metadata": {
        "colab": {
          "base_uri": "https://localhost:8080/"
        },
        "id": "ZhPgdSYY3Rko",
        "outputId": "952d94cd-50a3-438d-9e64-0f59274664ba"
      },
      "source": [
        "test_loader = DataLoader(test_dataset, batch_size=256)\n",
        "result = evaluate(model, test_loader)\n",
        "result"
      ],
      "execution_count": 60,
      "outputs": [
        {
          "output_type": "execute_result",
          "data": {
            "text/plain": [
              "{'val_acc': 0.9131835699081421, 'val_loss': 0.3187054991722107}"
            ]
          },
          "metadata": {
            "tags": []
          },
          "execution_count": 60
        }
      ]
    }
  ]
}